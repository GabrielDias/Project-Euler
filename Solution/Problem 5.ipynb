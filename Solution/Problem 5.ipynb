{
 "cells": [
  {
   "cell_type": "markdown",
   "metadata": {},
   "source": [
    "2520 is the smallest number that can be divided by each of the numbers from 1 to 10 without any remainder.\n",
    "\n",
    "What is the smallest positive number that is evenly divisible by all of the numbers from 1 to 20?"
   ]
  },
  {
   "cell_type": "code",
   "execution_count": 5,
   "metadata": {},
   "outputs": [
    {
     "data": {
      "text/plain": [
       "[2, 2, 2, 2, 3, 3, 3, 3, 5, 5, 5, 5, 7, 11]"
      ]
     },
     "execution_count": 5,
     "metadata": {},
     "output_type": "execute_result"
    }
   ],
   "source": [
    "fatorar(62370000)"
   ]
  },
  {
   "cell_type": "code",
   "execution_count": 1,
   "metadata": {},
   "outputs": [],
   "source": [
    "#lembra o problema 3 onde usava a raiz do numero pra calcular o primo, mas aqui retornará uma lista dos primos\n",
    "def fatorar(n):      \n",
    "    vet = [] \n",
    "    \n",
    "    for i in range(2,n+1): #mesmo racional problema 3\n",
    "        while n%i == 0:\n",
    "            n = n/i\n",
    "            vet.append(i) #aqui appendara todos os primos\n",
    "    \n",
    "    if (sum(vet) == 0):\n",
    "        vet.append(n) #excecao do 1\n",
    "    \n",
    "    return vet"
   ]
  },
  {
   "cell_type": "code",
   "execution_count": 4,
   "metadata": {},
   "outputs": [
    {
     "name": "stdout",
     "output_type": "stream",
     "text": [
      "(2**4) * (3**2) * (4**0) * (5**1) * (6**0) * (7**1) * (8**0) * (9**0) * (10**0) * (11**1) * (12**0) * (13**1) * (14**0) * (15**0) * (16**0) * (17**1) * (18**0) * (19**1)\n"
     ]
    },
    {
     "data": {
      "text/plain": [
       "232792560"
      ]
     },
     "execution_count": 4,
     "metadata": {},
     "output_type": "execute_result"
    }
   ],
   "source": [
    "n = 20 #de 1 a 20, 20 numeros\n",
    "\n",
    "vet_n = list(range(n))\n",
    "\n",
    "#vetor de 1 a 20\n",
    "for i in range(1,n+1):\n",
    "    vet_n[i-1] = i\n",
    "\n",
    "#criar lista dos numeros fatorados\n",
    "vet_n = list(map(fatorar,(vet_n)))\n",
    "\n",
    "num = 2\n",
    "\n",
    "for i in range(n): #pegar o maior primo pra setar em num\n",
    "    if (vet_n[i][-1] > num):\n",
    "        num = vet_n[i][-1]\n",
    "\n",
    "mmc = 1\n",
    "vetor = '('\n",
    "\n",
    "for i in range(2,num+1):\n",
    "#for i in range(2,10):\n",
    "    cont = vet_n[0].count(i)\n",
    "    cont = 0\n",
    "    for j in range(n):\n",
    "        if (vet_n[j].count(i) > cont):\n",
    "           cont = vet_n[j].count(i)\n",
    "    #print(cont)\n",
    "    vetor = vetor + str(i) + '**' + str(cont) + ') * ('\n",
    "    mmc = mmc * (i**cont)\n",
    "print(vetor[:-4]) #apenas para ver a formula, remover a multiplicacao final inexistente\n",
    "mmc"
   ]
  }
 ],
 "metadata": {
  "kernelspec": {
   "display_name": "Python 3",
   "language": "python",
   "name": "python3"
  },
  "language_info": {
   "codemirror_mode": {
    "name": "ipython",
    "version": 3
   },
   "file_extension": ".py",
   "mimetype": "text/x-python",
   "name": "python",
   "nbconvert_exporter": "python",
   "pygments_lexer": "ipython3",
   "version": "3.6.4"
  }
 },
 "nbformat": 4,
 "nbformat_minor": 2
}
