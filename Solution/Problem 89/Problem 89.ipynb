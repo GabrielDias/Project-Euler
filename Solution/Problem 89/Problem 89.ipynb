{
 "cells": [
  {
   "cell_type": "markdown",
   "metadata": {},
   "source": [
    "For a number written in Roman numerals to be considered valid there are basic rules which must be followed. Even though the rules allow some numbers to be expressed in more than one way there is always a \"best\" way of writing a particular number.\n",
    "\n",
    "For example, it would appear that there are at least six ways of writing the number sixteen:  \n",
    "\n",
    "IIIIIIIIIIIIIIII  \n",
    "VIIIIIIIIIII  \n",
    "VVIIIIII  \n",
    "XIIIIII  \n",
    "VVVI  \n",
    "XVI  \n",
    "\n",
    "However, according to the rules only XIIIIII and XVI are valid, and the last example is considered to be the most efficient, as it uses the least number of numerals.\n",
    "\n",
    "The 11K text file, roman.txt (right click and 'Save Link/Target As...'), contains one thousand numbers written in valid, but not necessarily minimal, Roman numerals; see About... Roman Numerals for the definitive rules for this problem.\n",
    "\n",
    "Find the number of characters saved by writing each of these in their minimal form.\n",
    "\n",
    "Note: You can assume that all the Roman numerals in the file contain no more than four consecutive identical units."
   ]
  },
  {
   "cell_type": "markdown",
   "metadata": {},
   "source": [
    "Regras números romanos: https://projecteuler.net/about=roman_numerals  \n",
    "Only one I, X, and C can be used as the leading numeral in part of a subtractive pair.  \n",
    "I can only be placed before V and X.  \n",
    "X can only be placed before L and C.  \n",
    "C can only be placed before D and M.  \n",
    "\n",
    "Numerals must be arranged in descending order of size.  \n",
    "M, C, and X cannot be equalled or exceeded by smaller denominations.  \n",
    "D, L, and V can each only appear once.  "
   ]
  },
  {
   "cell_type": "code",
   "execution_count": 2,
   "metadata": {},
   "outputs": [],
   "source": [
    "def listaRomanos():\n",
    "    romanos = {\n",
    "    \"M\" : 1000,\n",
    "    \"CM\": 900,\n",
    "    \"D\" : 500,\n",
    "    \"CD\": 400,\n",
    "    \"C\" : 100,\n",
    "    \"XC\": 90,\n",
    "    \"L\" : 50,\n",
    "    \"XL\": 40,\n",
    "    \"X\" : 10,\n",
    "    \"IX\": 9,\n",
    "    \"V\" : 5,\n",
    "    \"IV\": 4,\n",
    "    \"I\" : 1\n",
    "    }\n",
    "    return romanos"
   ]
  },
  {
   "cell_type": "code",
   "execution_count": 50,
   "metadata": {},
   "outputs": [],
   "source": [
    "def romanoParaNumero(line):\n",
    "    romanos = listaRomanos()\n",
    "    anterior = ''\n",
    "    numero = 0\n",
    "    for i in range(0,len(line)):\n",
    "        #print(\"inicio loop: \",numero)\n",
    "        if(i==0): #primeira ocorrencia\n",
    "            anterior = atual = line[i]\n",
    "            #numero = romanos.get(anterior)\n",
    "        else:\n",
    "            #print(i)\n",
    "            anterior = atual\n",
    "            atual = line[i]\n",
    "            #print(anterior,\"-\",atual)\n",
    "            if(romanos.get(anterior) < romanos.get(atual) and i != 0): #subtracao ex: IX\n",
    "                #print(\"menor \",numero)\n",
    "                #o if abaixo verifica os casos da regra 1, dos caracteres que podem subtrair\n",
    "                if((romanos.get(anterior) == 1 and (romanos.get(atual) == 5 or romanos.get(atual) == 10)) or\n",
    "                   (romanos.get(anterior) == 10 and (romanos.get(atual) == 50 or romanos.get(atual) == 100)) or\n",
    "                   (romanos.get(anterior) == 100 and (romanos.get(atual) == 500 or romanos.get(atual) == 1000))):\n",
    "                    #numero = numero + (romanos.get(atual) - romanos.get(anterior))\n",
    "                    #subtraio aqui porque na proxima iteracao o numero maior sera somado por inteiro, no else externo\n",
    "                    numero = numero - romanos.get(anterior) \n",
    "                    #print(romanos.get(atual) - romanos.get(anterior))\n",
    "                else:\n",
    "                    continue\n",
    "            else:\n",
    "                #print(\"maior ou igual \",numero)\n",
    "                numero = numero + romanos.get(anterior)\n",
    "    #ultimo caso nao foi somado\n",
    "    numero = numero + romanos.get(atual) \n",
    "    #print(i)\n",
    "    return numero"
   ]
  },
  {
   "cell_type": "code",
   "execution_count": 30,
   "metadata": {},
   "outputs": [],
   "source": [
    "def numeroParaRomano(numero):\n",
    "    romanos = listaRomanos()\n",
    "    r = ''\n",
    "    for i in romanos.keys():\n",
    "        #print(i)\n",
    "        while(numero>=romanos.get(i)):\n",
    "            numero = numero - romanos.get(i)\n",
    "            r = str(r) + str(i)\n",
    "            #print(r)\n",
    "    return r"
   ]
  },
  {
   "cell_type": "code",
   "execution_count": 58,
   "metadata": {},
   "outputs": [
    {
     "name": "stdout",
     "output_type": "stream",
     "text": [
      "743\n"
     ]
    }
   ],
   "source": [
    "entrada = open(\"p089_roman.txt\",\"r\") \n",
    "\n",
    "resp = 0\n",
    "economizado = 0\n",
    "for line in entrada:\n",
    "    #print(line)\n",
    "    resp = romanoParaNumero(line.rstrip()) #tem LF no arquivo, contabilizando no tamanho da string\n",
    "    economizado = economizado + abs(len(line.rstrip())-len(numeroParaRomano(resp)))\n",
    "    #print(resp)\n",
    "entrada.close()\n",
    "print(economizado)"
   ]
  }
 ],
 "metadata": {
  "kernelspec": {
   "display_name": "Python 3",
   "language": "python",
   "name": "python3"
  },
  "language_info": {
   "codemirror_mode": {
    "name": "ipython",
    "version": 3
   },
   "file_extension": ".py",
   "mimetype": "text/x-python",
   "name": "python",
   "nbconvert_exporter": "python",
   "pygments_lexer": "ipython3",
   "version": "3.6.4"
  }
 },
 "nbformat": 4,
 "nbformat_minor": 2
}
