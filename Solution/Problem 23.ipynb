{
 "cells": [
  {
   "cell_type": "code",
   "execution_count": 97,
   "metadata": {},
   "outputs": [],
   "source": [
    "import time"
   ]
  },
  {
   "cell_type": "code",
   "execution_count": 98,
   "metadata": {},
   "outputs": [],
   "source": [
    "def divisores(n): #problema 12\n",
    "    vet = [] \n",
    "    for i in range(1,int(math.sqrt(n))+1): #mesmo racional problema 3\n",
    "        if (n%i == 0):\n",
    "            vet.append(int(n/i)) #aqui appendara o 'espelho'\n",
    "            vet.append(i) #aqui appendara todos os primos\n",
    "            #no fim, vetor esta appendando em pares\n",
    "    if(math.sqrt(n) == int(math.sqrt(n))): #esse espelho duplica o resultado quando raiz quadrada = natural\n",
    "        vet.pop()\n",
    "    return sum(vet)"
   ]
  },
  {
   "cell_type": "code",
   "execution_count": 99,
   "metadata": {},
   "outputs": [],
   "source": [
    "def vetorSomaAbun(n):\n",
    "    vet = [0]*(n+1)\n",
    "    for i in range(0,len(abundantes)):\n",
    "            for j in range(i,len(abundantes)):\n",
    "                if (abundantes[i]+abundantes[j] <= n):\n",
    "                    vet[abundantes[i]+abundantes[j]] = abundantes[i]+abundantes[j]\n",
    "    return vet"
   ]
  },
  {
   "cell_type": "code",
   "execution_count": 100,
   "metadata": {},
   "outputs": [
    {
     "name": "stdout",
     "output_type": "stream",
     "text": [
      "4179871\n",
      "Tempo:  5.60295689121449 seconds\n"
     ]
    }
   ],
   "source": [
    "tempo_ini = time.clock()\n",
    "abundantes = []\n",
    "for i in range(12, 28123):\n",
    "    if (divisores(i) - i > i):\n",
    "        abundantes.append(i)\n",
    "\n",
    "inteiros = vetorSomaAbun(28123)\n",
    "soma = 0\n",
    "i = 0\n",
    "for n in inteiros:\n",
    "    if(n==0):\n",
    "        soma = soma + i\n",
    "    i = i + 1\n",
    "print(soma)\n",
    "print(\"Tempo: \", time.clock() - tempo_ini, \"seconds\")"
   ]
  }
 ],
 "metadata": {
  "kernelspec": {
   "display_name": "Python 3",
   "language": "python",
   "name": "python3"
  },
  "language_info": {
   "codemirror_mode": {
    "name": "ipython",
    "version": 3
   },
   "file_extension": ".py",
   "mimetype": "text/x-python",
   "name": "python",
   "nbconvert_exporter": "python",
   "pygments_lexer": "ipython3",
   "version": "3.6.4"
  }
 },
 "nbformat": 4,
 "nbformat_minor": 2
}
