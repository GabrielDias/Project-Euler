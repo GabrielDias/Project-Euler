{
 "cells": [
  {
   "cell_type": "markdown",
   "metadata": {},
   "source": [
    "Let d(n) be defined as the sum of proper divisors of n (numbers less than n which divide evenly into n).\n",
    "If d(a) = b and d(b) = a, where a ≠ b, then a and b are an amicable pair and each of a and b are called amicable numbers.\n",
    "\n",
    "For example, the proper divisors of 220 are 1, 2, 4, 5, 10, 11, 20, 22, 44, 55 and 110; therefore d(220) = 284. The proper divisors of 284 are 1, 2, 4, 71 and 142; so d(284) = 220.\n",
    "\n",
    "Evaluate the sum of all the amicable numbers under 10000."
   ]
  },
  {
   "cell_type": "code",
   "execution_count": 26,
   "metadata": {},
   "outputs": [],
   "source": [
    "import math\n",
    "import time"
   ]
  },
  {
   "cell_type": "code",
   "execution_count": 17,
   "metadata": {},
   "outputs": [],
   "source": [
    "def amigavel(n,m):\n",
    "    if(sum(divisores(m))-m == n):\n",
    "        return True\n",
    "    return False"
   ]
  },
  {
   "cell_type": "code",
   "execution_count": 3,
   "metadata": {},
   "outputs": [],
   "source": [
    "def divisores(n): #problema 12\n",
    "    vet = [] \n",
    "    for i in range(1,int(math.sqrt(n))+1): #mesmo racional problema 3\n",
    "        if (n%i == 0):\n",
    "            vet.append(int(n/i)) #aqui appendara o 'espelho'\n",
    "            vet.append(i) #aqui appendara todos os primos\n",
    "            #no fim, vetor esta appendando em pares\n",
    "    if(math.sqrt(n) == int(math.sqrt(n))): #esse espelho duplica o resultado quando raiz quadrada = natural\n",
    "        vet.pop()\n",
    "    return sorted(vet)"
   ]
  },
  {
   "cell_type": "code",
   "execution_count": 52,
   "metadata": {},
   "outputs": [
    {
     "name": "stdout",
     "output_type": "stream",
     "text": [
      "[220, 284, 1184, 1210, 2620, 2924, 5020, 5564, 6232, 6368]\n",
      "31626\n",
      "Tempo:  0.16586394985893094 seconds\n"
     ]
    }
   ],
   "source": [
    "tempo_ini = time.clock()\n",
    "resp = []\n",
    "for i in range(2,10000):\n",
    "    j = sum(divisores(i)) - i\n",
    "    if(i != j):\n",
    "        if(amigavel(i, j) == True):\n",
    "                if((i in resp) == False):\n",
    "                    resp.append(i)\n",
    "                if((j in resp) == False):\n",
    "                    resp.append(j)\n",
    "print(resp)\n",
    "print(sum(resp))\n",
    "print(\"Tempo: \", time.clock() - tempo_ini, \"seconds\")"
   ]
  }
 ],
 "metadata": {
  "kernelspec": {
   "display_name": "Python 3",
   "language": "python",
   "name": "python3"
  },
  "language_info": {
   "codemirror_mode": {
    "name": "ipython",
    "version": 3
   },
   "file_extension": ".py",
   "mimetype": "text/x-python",
   "name": "python",
   "nbconvert_exporter": "python",
   "pygments_lexer": "ipython3",
   "version": "3.6.4"
  }
 },
 "nbformat": 4,
 "nbformat_minor": 2
}
