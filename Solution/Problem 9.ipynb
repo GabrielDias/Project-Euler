{
 "cells": [
  {
   "cell_type": "markdown",
   "metadata": {},
   "source": [
    "A Pythagorean triplet is a set of three natural numbers, a < b < c, for which,\n",
    "\n",
    "$a^{2} + b^{2} = c^{2}$  \n",
    "For example, $3^{2} + 4^{2} = 9 + 16 = 25 = 5^{2}$.  \n",
    "\n",
    "There exists exactly one Pythagorean triplet for which a + b + c = 1000.  \n",
    "Find the product *abc*."
   ]
  },
  {
   "cell_type": "code",
   "execution_count": 1,
   "metadata": {},
   "outputs": [],
   "source": [
    "import math"
   ]
  },
  {
   "cell_type": "code",
   "execution_count": 2,
   "metadata": {},
   "outputs": [],
   "source": [
    "def retornaC(a,b):\n",
    "    return math.sqrt(a**2 + b**2)"
   ]
  },
  {
   "cell_type": "code",
   "execution_count": 16,
   "metadata": {},
   "outputs": [
    {
     "name": "stdout",
     "output_type": "stream",
     "text": [
      "200 375 425.0\n",
      "31875000.0\n"
     ]
    }
   ],
   "source": [
    "a = 200 #chutando A, uma vez que a<b<c, para se chegar em 1000 comecarei em 200\n",
    "c = 0\n",
    "saida = True\n",
    "while saida == True:\n",
    "    for b in range(a+1, 500): \n",
    "        c = retornaC(a,b)\n",
    "        if(a+b+c == 1000):\n",
    "            print(a,b,c)\n",
    "            print(a*b*c)\n",
    "            saida = False\n",
    "            break\n",
    "    a = a + 1"
   ]
  }
 ],
 "metadata": {
  "kernelspec": {
   "display_name": "Python 3",
   "language": "python",
   "name": "python3"
  },
  "language_info": {
   "codemirror_mode": {
    "name": "ipython",
    "version": 3
   },
   "file_extension": ".py",
   "mimetype": "text/x-python",
   "name": "python",
   "nbconvert_exporter": "python",
   "pygments_lexer": "ipython3",
   "version": "3.6.4"
  }
 },
 "nbformat": 4,
 "nbformat_minor": 2
}
