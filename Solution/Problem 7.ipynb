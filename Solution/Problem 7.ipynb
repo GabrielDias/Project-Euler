{
 "cells": [
  {
   "cell_type": "markdown",
   "metadata": {},
   "source": [
    "By listing the first six prime numbers: 2, 3, 5, 7, 11, and 13, we can see that the 6th prime is 13.\n",
    "\n",
    "What is the 10 001st prime number?"
   ]
  },
  {
   "cell_type": "code",
   "execution_count": 9,
   "metadata": {},
   "outputs": [],
   "source": [
    "import math"
   ]
  },
  {
   "cell_type": "code",
   "execution_count": 7,
   "metadata": {},
   "outputs": [],
   "source": [
    "#similar ao problema 3\n",
    "def primo(valor):\n",
    "    #excecao 2\n",
    "    if valor == 2:\n",
    "        return True\n",
    "    elif valor % 2 == 0:\n",
    "        return False\n",
    "    \n",
    "    i = 3\n",
    "    range = int( math.sqrt(valor) ) + 1\n",
    "    while( i < range ):\n",
    "        if( valor % i == 0):\n",
    "            return False\n",
    "        i += 1\n",
    "    return True"
   ]
  },
  {
   "cell_type": "code",
   "execution_count": 10,
   "metadata": {},
   "outputs": [
    {
     "data": {
      "text/plain": [
       "104743"
      ]
     },
     "execution_count": 10,
     "metadata": {},
     "output_type": "execute_result"
    }
   ],
   "source": [
    "contador = 6 #enunciado passa que 13 é o 6o primo\n",
    "n = 15 #primos sao impares\n",
    "while(contador < 10001):\n",
    "    if(primo(n) == True): #primo\n",
    "        contador = contador + 1\n",
    "    n = n + 2\n",
    "n - 2 #penultima iteracao tem a resposta"
   ]
  }
 ],
 "metadata": {
  "kernelspec": {
   "display_name": "Python 3",
   "language": "python",
   "name": "python3"
  },
  "language_info": {
   "codemirror_mode": {
    "name": "ipython",
    "version": 3
   },
   "file_extension": ".py",
   "mimetype": "text/x-python",
   "name": "python",
   "nbconvert_exporter": "python",
   "pygments_lexer": "ipython3",
   "version": "3.6.4"
  }
 },
 "nbformat": 4,
 "nbformat_minor": 2
}
