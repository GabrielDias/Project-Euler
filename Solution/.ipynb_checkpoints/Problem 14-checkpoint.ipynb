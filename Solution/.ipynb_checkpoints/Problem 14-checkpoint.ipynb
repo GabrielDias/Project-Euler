{
 "cells": [
  {
   "cell_type": "markdown",
   "metadata": {},
   "source": [
    "The following iterative sequence is defined for the set of positive integers:\n",
    "\n",
    "n → n/2 (n is even)  \n",
    "n → 3n + 1 (n is odd)\n",
    "\n",
    "Using the rule above and starting with 13, we generate the following sequence:\n",
    "\n",
    "13 → 40 → 20 → 10 → 5 → 16 → 8 → 4 → 2 → 1  \n",
    "It can be seen that this sequence (starting at 13 and finishing at 1) contains 10 terms. Although it has not been proved yet (Collatz Problem), it is thought that all starting numbers finish at 1.\n",
    "\n",
    "Which starting number, under one million, produces the longest chain?\n",
    "\n",
    "**NOTE:** Once the chain starts the terms are allowed to go above one million."
   ]
  },
  {
   "cell_type": "code",
   "execution_count": 8,
   "metadata": {},
   "outputs": [],
   "source": [
    "import time\n",
    "import math"
   ]
  },
  {
   "cell_type": "code",
   "execution_count": 5,
   "metadata": {},
   "outputs": [],
   "source": [
    "def verifica(l, chave):\n",
    "    if(l.get(chave, -1) == -1): #nao existe\n",
    "        return False\n",
    "    return True"
   ]
  },
  {
   "cell_type": "code",
   "execution_count": 32,
   "metadata": {},
   "outputs": [],
   "source": [
    "def add_lista(l, chave, qtd):\n",
    "    l[chave] = qtd"
   ]
  },
  {
   "cell_type": "code",
   "execution_count": 35,
   "metadata": {},
   "outputs": [
    {
     "name": "stdout",
     "output_type": "stream",
     "text": [
      "837799\n",
      "Tempo:  71.920660457969 seconds\n"
     ]
    }
   ],
   "source": [
    "tempo_ini = time.clock()\n",
    "n = 1000000\n",
    "lista = {1:1}\n",
    "for i in range(n,0,-1):\n",
    "    aux = i\n",
    "    cont = 1\n",
    "    while(aux != 1):\n",
    "        if(verifica(lista, i) == True):\n",
    "            cont = cont + lista.get(i)\n",
    "        if(aux%2 == 0): #par\n",
    "            aux = aux / 2\n",
    "        else:\n",
    "            aux = (3 * aux) + 1\n",
    "        cont = cont + 1\n",
    "    add_lista(lista,i,cont)\n",
    "maximo = max(lista.values())\n",
    "print(list(lista.keys())[list(lista.values()).index(maximo)])\n",
    "print(\"Tempo: \", time.clock() - tempo_ini, \"seconds\")"
   ]
  }
 ],
 "metadata": {
  "kernelspec": {
   "display_name": "Python 3",
   "language": "python",
   "name": "python3"
  },
  "language_info": {
   "codemirror_mode": {
    "name": "ipython",
    "version": 3
   },
   "file_extension": ".py",
   "mimetype": "text/x-python",
   "name": "python",
   "nbconvert_exporter": "python",
   "pygments_lexer": "ipython3",
   "version": "3.6.4"
  }
 },
 "nbformat": 4,
 "nbformat_minor": 2
}
