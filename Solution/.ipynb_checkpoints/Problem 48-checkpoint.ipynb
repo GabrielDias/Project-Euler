{
 "cells": [
  {
   "cell_type": "markdown",
   "metadata": {},
   "source": [
    "The series, $1^{1} + 2^{2} + 3^{3} + ... + 10^{10}$ = 10405071317.\n",
    "\n",
    "Find the last ten digits of the series, $1^{1} + 2^{2} + 3^{3} +... + 1000^{1000}$."
   ]
  },
  {
   "cell_type": "code",
   "execution_count": 2,
   "metadata": {},
   "outputs": [],
   "source": [
    "import math\n",
    "import numpy as np"
   ]
  },
  {
   "cell_type": "code",
   "execution_count": 13,
   "metadata": {},
   "outputs": [
    {
     "data": {
      "text/plain": [
       "9110846700"
      ]
     },
     "execution_count": 13,
     "metadata": {},
     "output_type": "execute_result"
    }
   ],
   "source": [
    "soma = 0\n",
    "mod = 10000000000 #len 11, aplicar % pega ultimos 10 numeros\n",
    "for i in range(1,1000): #nao preciso calcular o 1000^1000 pois nao agregara, os ultimos digitos serão sempre 0\n",
    "    aux = pow(i,i)\n",
    "    aux %= mod #tornar para somar numeros menores, mas que tenham 10 digitos pelo menos\n",
    "    soma = soma + aux\n",
    "soma%mod"
   ]
  }
 ],
 "metadata": {
  "kernelspec": {
   "display_name": "Python 3",
   "language": "python",
   "name": "python3"
  },
  "language_info": {
   "codemirror_mode": {
    "name": "ipython",
    "version": 3
   },
   "file_extension": ".py",
   "mimetype": "text/x-python",
   "name": "python",
   "nbconvert_exporter": "python",
   "pygments_lexer": "ipython3",
   "version": "3.6.4"
  }
 },
 "nbformat": 4,
 "nbformat_minor": 2
}
