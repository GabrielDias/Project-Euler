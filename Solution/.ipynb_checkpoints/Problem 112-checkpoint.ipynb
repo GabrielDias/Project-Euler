{
 "cells": [
  {
   "cell_type": "markdown",
   "metadata": {},
   "source": [
    "Working from left-to-right if no digit is exceeded by the digit to its left it is called an increasing number; for example, 134468.\n",
    "\n",
    "Similarly if no digit is exceeded by the digit to its right it is called a decreasing number; for example, 66420.\n",
    "\n",
    "We shall call a positive integer that is neither increasing nor decreasing a \"bouncy\" number; for example, 155349.\n",
    "\n",
    "Clearly there cannot be any bouncy numbers below one-hundred, but just over half of the numbers below one-thousand (525) are bouncy. In fact, the least number for which the proportion of bouncy numbers first reaches 50% is 538.\n",
    "\n",
    "Surprisingly, bouncy numbers become more and more common and by the time we reach 21780 the proportion of bouncy numbers is equal to 90%.\n",
    "\n",
    "Find the least number for which the proportion of bouncy numbers is exactly 99%."
   ]
  },
  {
   "cell_type": "code",
   "execution_count": 1,
   "metadata": {},
   "outputs": [],
   "source": [
    "def incremental(n):\n",
    "    vet_n = [int(num) for num in str(n)]\n",
    "    for i in range(1,len(vet_n)):\n",
    "        if(vet_n[i-1] > vet_n[i]):\n",
    "            return False\n",
    "        else:\n",
    "            continue\n",
    "    return True"
   ]
  },
  {
   "cell_type": "code",
   "execution_count": 5,
   "metadata": {},
   "outputs": [],
   "source": [
    "def decremental(n):\n",
    "    vet_n = [int(num) for num in str(n)]\n",
    "    for i in range(1,len(vet_n)):\n",
    "        if(vet_n[i-1] < vet_n[i]):\n",
    "            return False\n",
    "        else:\n",
    "            continue\n",
    "    return True"
   ]
  },
  {
   "cell_type": "code",
   "execution_count": 72,
   "metadata": {},
   "outputs": [
    {
     "name": "stdout",
     "output_type": "stream",
     "text": [
      "1587000\n"
     ]
    }
   ],
   "source": [
    "tx_bouncy = 0\n",
    "i = 1\n",
    "while True:\n",
    "    if(incremental(i) == False and decremental(i) == False):\n",
    "        tx_bouncy = tx_bouncy + 1\n",
    "    if(tx_bouncy/i == 0.99):\n",
    "        break\n",
    "    i = i + 1\n",
    "print(i)"
   ]
  }
 ],
 "metadata": {
  "kernelspec": {
   "display_name": "Python 3",
   "language": "python",
   "name": "python3"
  },
  "language_info": {
   "codemirror_mode": {
    "name": "ipython",
    "version": 3
   },
   "file_extension": ".py",
   "mimetype": "text/x-python",
   "name": "python",
   "nbconvert_exporter": "python",
   "pygments_lexer": "ipython3",
   "version": "3.6.4"
  }
 },
 "nbformat": 4,
 "nbformat_minor": 2
}
