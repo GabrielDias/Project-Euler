{
 "cells": [
  {
   "cell_type": "markdown",
   "metadata": {},
   "source": [
    "A 10-substring of a number is a substring of its digits that sum to 10. For example, the 10-substrings of the number 3523014 are:\n",
    "\n",
    "**3523**014  \n",
    "3**523**014  \n",
    "3**5230**14  \n",
    "35**23014**  \n",
    "A number is called 10-substring-friendly if every one of its digits belongs to a 10-substring. For example, 3523014 is 10-substring-friendly, but 28546 is not.\n",
    "\n",
    "Let T(n) be the number of 10-substring-friendly numbers from 1 to 10n (inclusive).\n",
    "For example T(2) = 9 and T(5) = 3492.\n",
    "\n",
    "Find T(1018) mod 1 000 000 007"
   ]
  },
  {
   "cell_type": "code",
   "execution_count": 26,
   "metadata": {},
   "outputs": [],
   "source": [
    "import numpy as np"
   ]
  },
  {
   "cell_type": "code",
   "execution_count": 142,
   "metadata": {},
   "outputs": [],
   "source": [
    "def t(n):\n",
    "    resultado = 0\n",
    "    resp = []\n",
    "    vet_n = [] #vetor que armazena string dos inputs\n",
    "    vet_b = [] #vetor de booleanos, para verificar por posicao\n",
    "    for i in range(19, 10**n): #ignorando ate 18, ja que é impossivel somar 10 com essas opções\n",
    "        vet_n = [int(num) for num in str(i)] #separa string em numeros separados\n",
    "        #print(vet_n)\n",
    "        vet_b = np.repeat(False, len(vet_n)) #preenchendo com falses, se tudo true entao 10-substring-friendly\n",
    "        #print(vet_b)\n",
    "        #ini = 0 #posicao inicial do \"cursor\"\n",
    "        #print(\"i: \",i)\n",
    "        for ini in range(0, len(vet_n) - 1): #nao preciso percorrer ate o cursor inicial chegar na ultima posicao\n",
    "            soma = 0\n",
    "            zero = 0 #nos casos que a soma ja deu 10, verifica se tem zeros a direita para flagar vet_b\n",
    "            if vet_n[ini] != 0: #nao quero processar strings que iniciem com zero\n",
    "                #tam = len(vet_n)-ini\n",
    "                tam = len(vet_n)\n",
    "                #print(\"aqui\")\n",
    "                for j in range(ini,tam):\n",
    "                    zero = j\n",
    "                    soma = soma + vet_n[j]\n",
    "                    #print(\"j: \",j)\n",
    "                    #print(\"ini: \",ini)\n",
    "                    #print(\"vet_n: \",vet_n[j])\n",
    "                    #print(\"soma: \",soma)\n",
    "                    if soma == 10:\n",
    "                        #print(\"aqui soma = 10\")\n",
    "                        #print(vet_b)\n",
    "                        vet_b[ini:j+1] = True\n",
    "                        #print(\"tam: \",tam)\n",
    "                        #print(\"zero 1: \",zero)\n",
    "                        #print(\"vet_n: \",vet_n)\n",
    "                        while True:\n",
    "                            if zero < tam-1:\n",
    "                                zero = zero + 1\n",
    "                                #print(\"zero 2: \",zero)\n",
    "                                if vet_n[zero] == 0:\n",
    "                                    vet_b[zero] = True\n",
    "                                else:\n",
    "                                    break\n",
    "                            else:\n",
    "                                break\n",
    "                    elif soma > 10:\n",
    "                        break\n",
    "        #print(vet_b)\n",
    "        if np.alltrue(vet_b) == True:\n",
    "            resultado = resultado + 1\n",
    "            print(i)\n",
    "            #resp.append(i)\n",
    "    #print (resp)\n",
    "    return resultado"
   ]
  },
  {
   "cell_type": "code",
   "execution_count": 1,
   "metadata": {},
   "outputs": [],
   "source": [
    "#print(t(5))"
   ]
  },
  {
   "cell_type": "markdown",
   "metadata": {},
   "source": [
    "Embora a solução tenha sido criada, é necessário otimização para rodar 10^18 números..."
   ]
  }
 ],
 "metadata": {
  "kernelspec": {
   "display_name": "Python 3",
   "language": "python",
   "name": "python3"
  },
  "language_info": {
   "codemirror_mode": {
    "name": "ipython",
    "version": 3
   },
   "file_extension": ".py",
   "mimetype": "text/x-python",
   "name": "python",
   "nbconvert_exporter": "python",
   "pygments_lexer": "ipython3",
   "version": "3.6.4"
  }
 },
 "nbformat": 4,
 "nbformat_minor": 2
}
