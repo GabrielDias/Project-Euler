{
 "cells": [
  {
   "cell_type": "markdown",
   "metadata": {},
   "source": [
    "The prime factors of 13195 are 5, 7, 13 and 29.\n",
    "\n",
    "What is the largest prime factor of the number 600851475143 ?"
   ]
  },
  {
   "cell_type": "code",
   "execution_count": 8,
   "metadata": {},
   "outputs": [],
   "source": [
    "import math"
   ]
  },
  {
   "cell_type": "code",
   "execution_count": 13,
   "metadata": {},
   "outputs": [
    {
     "data": {
      "text/plain": [
       "6857"
      ]
     },
     "execution_count": 13,
     "metadata": {},
     "output_type": "execute_result"
    }
   ],
   "source": [
    "valor = 600851475143\n",
    "resposta = 0\n",
    "\n",
    "#verifica se o numero%2 = 0 e divide\n",
    "while valor % 2 == 0:\n",
    "    valor = valor / 2\n",
    "    \n",
    "#agora os proximos primos so podem ser impares, incrementar por 2 (ultimo parametro range)\n",
    "#todo numero composto tem pelo menos um numero primo menor ou igual a raiz do numero\n",
    "#entao o loop sera ate i <= raiz de N, alterando o valor de N\n",
    "for i in range(3,int(math.sqrt(valor)+1),2): #comeca em 3, primeiro primo impar; + 1 porque preciso do ultimo registro tb\n",
    "    while valor % i == 0:\n",
    "        valor = valor / i\n",
    "        resposta = i\n",
    "    \n",
    "resposta"
   ]
  }
 ],
 "metadata": {
  "kernelspec": {
   "display_name": "Python 3",
   "language": "python",
   "name": "python3"
  },
  "language_info": {
   "codemirror_mode": {
    "name": "ipython",
    "version": 3
   },
   "file_extension": ".py",
   "mimetype": "text/x-python",
   "name": "python",
   "nbconvert_exporter": "python",
   "pygments_lexer": "ipython3",
   "version": "3.6.4"
  }
 },
 "nbformat": 4,
 "nbformat_minor": 2
}
