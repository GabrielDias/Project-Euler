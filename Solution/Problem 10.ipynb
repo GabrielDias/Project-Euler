{
 "cells": [
  {
   "cell_type": "markdown",
   "metadata": {},
   "source": [
    "The sum of the primes below 10 is 2 + 3 + 5 + 7 = 17.\n",
    "\n",
    "Find the sum of all the primes below two million."
   ]
  },
  {
   "cell_type": "code",
   "execution_count": 15,
   "metadata": {},
   "outputs": [],
   "source": [
    "import math\n",
    "import numpy as np\n",
    "import time"
   ]
  },
  {
   "cell_type": "code",
   "execution_count": 7,
   "metadata": {},
   "outputs": [],
   "source": [
    "#similar ao problema 3\n",
    "def primo(valor):\n",
    "    #excecao 2\n",
    "    if valor == 2:\n",
    "        return True\n",
    "    elif valor % 2 == 0:\n",
    "        return False\n",
    "    \n",
    "    i = 3\n",
    "    range = int( math.sqrt(valor) ) + 1\n",
    "    while( i < range ):\n",
    "        if( valor % i == 0):\n",
    "            return False\n",
    "        i += 1\n",
    "    return True"
   ]
  },
  {
   "cell_type": "code",
   "execution_count": 17,
   "metadata": {},
   "outputs": [
    {
     "name": "stdout",
     "output_type": "stream",
     "text": [
      "R:  142913828922\n",
      "Tempo:  17.222212741763656 seconds\n"
     ]
    }
   ],
   "source": [
    "tempo_ini = time.clock()\n",
    "soma = 2 \n",
    "for i in range(3, 2000001,2):\n",
    "    if(primo(i) == True): #primo\n",
    "        soma = soma + i\n",
    "print(\"R: \",soma)\n",
    "print(\"Tempo: \", time.clock() - tempo_ini, \"seconds\")"
   ]
  }
 ],
 "metadata": {
  "kernelspec": {
   "display_name": "Python 3",
   "language": "python",
   "name": "python3"
  },
  "language_info": {
   "codemirror_mode": {
    "name": "ipython",
    "version": 3
   },
   "file_extension": ".py",
   "mimetype": "text/x-python",
   "name": "python",
   "nbconvert_exporter": "python",
   "pygments_lexer": "ipython3",
   "version": "3.6.4"
  }
 },
 "nbformat": 4,
 "nbformat_minor": 2
}
